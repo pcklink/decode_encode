{
 "cells": [
  {
   "cell_type": "markdown",
   "metadata": {},
   "source": [
    "### Imports  & Parameters"
   ]
  },
  {
   "cell_type": "code",
   "execution_count": 8,
   "metadata": {},
   "outputs": [],
   "source": [
    "%load_ext autoreload\n",
    "%autoreload 2\n",
    "\n",
    "import os, sys\n",
    "# ugly workaround for imports\n",
    "sys.path.append(os.path.split(os.getcwd())[0])\n",
    "\n",
    "import numpy as np\n",
    "import scipy as sp\n",
    "import matplotlib.pyplot as pl\n",
    "\n",
    "from fit import *\n",
    "from utils.prf import *"
   ]
  },
  {
   "cell_type": "code",
   "execution_count": 2,
   "metadata": {
    "collapsed": true
   },
   "outputs": [],
   "source": [
    "# parameters of analysis\n",
    "extent = [-5, 5]\n",
    "stim_radius = 5.0\n",
    "n_pix = 41\n",
    "rsq_threshold = 0.5\n",
    "\n",
    "# make mask based on these parameters\n",
    "mask = create_circular_mask(n_pix,n_pix,radius=stim_radius)"
   ]
  },
  {
   "cell_type": "code",
   "execution_count": 3,
   "metadata": {
    "collapsed": true
   },
   "outputs": [],
   "source": [
    "# settings that have to do with the data and experiment\n",
    "nr_prf_parameters = 8\n",
    "TR = 0.945\n",
    "screen_distance = 225\n",
    "screen_width = 69\n",
    "nr_TRs = 462\n",
    "timepoints = np.arange(nr_TRs) * TR\n",
    "n_folds = 6"
   ]
  },
  {
   "cell_type": "markdown",
   "metadata": {},
   "source": [
    "### Get Data"
   ]
  },
  {
   "cell_type": "code",
   "execution_count": 4,
   "metadata": {},
   "outputs": [
    {
     "name": "stdout",
     "output_type": "stream",
     "text": [
      "data file found, returning local file ../data/V1.h5\n",
      "Taking data corresponding to ['sub-012_task-mapper_acq-multiband_run-1_bold_B0_mcf_sg_psc', 'sub-012_task-mapper_acq-multiband_run-2_bold_B0_mcf_sg_psc', 'sub-012_task-mapper_acq-multiband_run-3_bold_B0_mcf_sg_psc', 'sub-012_task-mapper_acq-multiband_run-4_bold_B0_mcf_sg_psc', 'sub-012_task-mapper_acq-multiband_run-5_bold_B0_mcf_sg_psc', 'sub-012_task-mapper_acq-multiband_run-6_bold_B0_mcf_sg_psc'] from group /psc/V1.thresh_vol_dil.nii.gz\n",
      "Taking data corresponding to ['sub-012_task-mapper_acq-multiband_run-1_bold_B0_mcf_sg_psc_av_loo', 'sub-012_task-mapper_acq-multiband_run-2_bold_B0_mcf_sg_psc_av_loo', 'sub-012_task-mapper_acq-multiband_run-3_bold_B0_mcf_sg_psc_av_loo', 'sub-012_task-mapper_acq-multiband_run-4_bold_B0_mcf_sg_psc_av_loo', 'sub-012_task-mapper_acq-multiband_run-5_bold_B0_mcf_sg_psc_av_loo', 'sub-012_task-mapper_acq-multiband_run-6_bold_B0_mcf_sg_psc_av_loo'] from group /loo/V1.thresh_vol_dil.nii.gz\n",
      "Taking data corresponding to ['sub-012_task-mapper_acq-multiband_run-1_bold_B0_mcf_sg_psc_av'] from group /all_psc/V1.thresh_vol_dil.nii.gz\n",
      "Taking data corresponding to ['sub-012_task-mapper_acq-multiband_run-1_bold_B0_mcf_sg_psc_av_est_all'] from group /all_prf/V1.thresh_vol_dil.nii.gz\n",
      "Taking data corresponding to ['sub-012_task-mapper_acq-multiband_run-1_bold_B0_mcf_sg_psc_av_loo_est_all', 'sub-012_task-mapper_acq-multiband_run-2_bold_B0_mcf_sg_psc_av_loo_est_all', 'sub-012_task-mapper_acq-multiband_run-3_bold_B0_mcf_sg_psc_av_loo_est_all', 'sub-012_task-mapper_acq-multiband_run-4_bold_B0_mcf_sg_psc_av_loo_est_all', 'sub-012_task-mapper_acq-multiband_run-5_bold_B0_mcf_sg_psc_av_loo_est_all', 'sub-012_task-mapper_acq-multiband_run-6_bold_B0_mcf_sg_psc_av_loo_est_all'] from group /prf/V1.thresh_vol_dil.nii.gz\n"
     ]
    }
   ],
   "source": [
    "(prf_cv_fold_data, rfs, linear_predictor, \n",
    " all_residuals_css, all_residual_covariance_css, \n",
    " stimulus_covariance_WW, test_data) = setup_data_from_h5(\n",
    "                        data_file = '../data/V1.h5', \n",
    "                        n_pix=n_pix, \n",
    "                        extent=extent, \n",
    "                        stim_radius=stim_radius, \n",
    "                        screen_distance=screen_distance, \n",
    "                        screen_width=screen_width, \n",
    "                        rsq_threshold=0.5,\n",
    "                        TR=TR,\n",
    "                        cv_fold=0,\n",
    "                        n_folds=n_folds)"
   ]
  },
  {
   "cell_type": "code",
   "execution_count": 9,
   "metadata": {},
   "outputs": [
    {
     "ename": "NameError",
     "evalue": "name 'all_residual_covariance_css' is not defined",
     "output_type": "error",
     "traceback": [
      "\u001b[0;31m---------------------------------------------------------------------------\u001b[0m",
      "\u001b[0;31mNameError\u001b[0m                                 Traceback (most recent call last)",
      "\u001b[0;32m<ipython-input-9-76107d8eef29>\u001b[0m in \u001b[0;36m<module>\u001b[0;34m()\u001b[0m\n\u001b[1;32m      5\u001b[0m                                         \u001b[0mall_residual_covariance_css\u001b[0m\u001b[0;34m,\u001b[0m\u001b[0;34m\u001b[0m\u001b[0m\n\u001b[1;32m      6\u001b[0m                                         \u001b[0mstimulus_covariance_WW\u001b[0m\u001b[0;34m,\u001b[0m\u001b[0;34m\u001b[0m\u001b[0m\n\u001b[0;32m----> 7\u001b[0;31m                                         verbose=1)\n\u001b[0m",
      "\u001b[0;32m/Users/knapen/disks/ae_H/projects/decode_encode/dec/fit.py\u001b[0m in \u001b[0;36mfit_model_omega\u001b[0;34m(observed_residual_covariance, featurespace_covariance, infile, outfile, verbose)\u001b[0m\n\u001b[1;32m     18\u001b[0m     \u001b[0minitial_guesses\u001b[0m\u001b[0;34m=\u001b[0m\u001b[0;36m4\u001b[0m\u001b[0;34m\u001b[0m\u001b[0m\n\u001b[1;32m     19\u001b[0m \u001b[0;34m\u001b[0m\u001b[0m\n\u001b[0;32m---> 20\u001b[0;31m     \u001b[0mx0\u001b[0m\u001b[0;34m=\u001b[0m\u001b[0mnp\u001b[0m\u001b[0;34m.\u001b[0m\u001b[0mzeros\u001b[0m\u001b[0;34m(\u001b[0m\u001b[0;34m(\u001b[0m\u001b[0mobserved_residual_covariance\u001b[0m\u001b[0;34m.\u001b[0m\u001b[0mshape\u001b[0m\u001b[0;34m[\u001b[0m\u001b[0;36m0\u001b[0m\u001b[0;34m]\u001b[0m\u001b[0;34m+\u001b[0m\u001b[0;36m2\u001b[0m\u001b[0;34m,\u001b[0m\u001b[0minitial_guesses\u001b[0m\u001b[0;34m)\u001b[0m\u001b[0;34m)\u001b[0m\u001b[0;34m+\u001b[0m\u001b[0;36m0.5\u001b[0m\u001b[0;34m\u001b[0m\u001b[0m\n\u001b[0m\u001b[1;32m     21\u001b[0m     \u001b[0;31m#none of these work very well\u001b[0m\u001b[0;34m\u001b[0m\u001b[0;34m\u001b[0m\u001b[0m\n\u001b[1;32m     22\u001b[0m     \u001b[0mx0\u001b[0m\u001b[0;34m[\u001b[0m\u001b[0;34m:\u001b[0m\u001b[0;34m,\u001b[0m\u001b[0;36m1\u001b[0m\u001b[0;34m]\u001b[0m\u001b[0;34m=\u001b[0m\u001b[0;36m10\u001b[0m\u001b[0;34m*\u001b[0m\u001b[0mnp\u001b[0m\u001b[0;34m.\u001b[0m\u001b[0mrandom\u001b[0m\u001b[0;34m.\u001b[0m\u001b[0mrand\u001b[0m\u001b[0;34m(\u001b[0m\u001b[0mx0\u001b[0m\u001b[0;34m.\u001b[0m\u001b[0mshape\u001b[0m\u001b[0;34m[\u001b[0m\u001b[0;36m0\u001b[0m\u001b[0;34m]\u001b[0m\u001b[0;34m)\u001b[0m\u001b[0;34m\u001b[0m\u001b[0m\n",
      "\u001b[0;31mNameError\u001b[0m: name 'all_residual_covariance_css' is not defined"
     ]
    }
   ],
   "source": [
    "# estimate the covariance structure, which outputs all parameters\n",
    "(estimated_tau_matrix, estimated_rho, \n",
    " estimated_sigma, model_omega, \n",
    " model_omega_inv, logdet) = fit_model_omega(\n",
    "                                        all_residual_covariance_css, \n",
    "                                        stimulus_covariance_WW,\n",
    "                                        verbose=1)"
   ]
  },
  {
   "cell_type": "code",
   "execution_count": null,
   "metadata": {
    "collapsed": true
   },
   "outputs": [],
   "source": [
    "# set up result arrays:\n",
    "dm_pixel_logl_ratio = np.zeros((n_pix,n_pix,test_data.shape[1]))\n",
    "decoded_image = np.zeros((n_pix,n_pix,test_data.shape[1]))  \n",
    "\n",
    "# and loop across timepoints\n",
    "for t, bold in enumerate(test_data.T):\n",
    "    dm_pixel_logl_ratio[:,:,t] = firstpass_decoder_independent_pixels(bold, \n",
    "                                     logdet,\n",
    "                                     omega_inv,\n",
    "                                     linear_predictor,\n",
    "                                     mask)\n",
    "    decoded_image[:,:,t] = maximize_loglikelihood(\n",
    "                            starting_value=dm_pixel_logl_ratio[:,:,t],\n",
    "                            bold,\n",
    "                            logdet,\n",
    "                            omega_inv,\n",
    "                            linear_predictor, \n",
    "                            mask)"
   ]
  }
 ],
 "metadata": {
  "kernelspec": {
   "display_name": "Python 3",
   "language": "python",
   "name": "python3"
  },
  "language_info": {
   "codemirror_mode": {
    "name": "ipython",
    "version": 3
   },
   "file_extension": ".py",
   "mimetype": "text/x-python",
   "name": "python",
   "nbconvert_exporter": "python",
   "pygments_lexer": "ipython3",
   "version": "3.5.3"
  }
 },
 "nbformat": 4,
 "nbformat_minor": 2
}
